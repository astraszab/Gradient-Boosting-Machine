{
 "cells": [
  {
   "cell_type": "code",
   "execution_count": 1,
   "metadata": {},
   "outputs": [],
   "source": [
    "import gradient_boosting as gb\n",
    "import pandas as pd\n",
    "import numpy as np\n",
    "\n",
    "from sklearn.model_selection import train_test_split\n",
    "from sklearn.metrics import mean_squared_error, accuracy_score"
   ]
  },
  {
   "cell_type": "code",
   "execution_count": 2,
   "metadata": {},
   "outputs": [],
   "source": [
    "df = pd.DataFrame()\n",
    "for i in range(1, 10):\n",
    "    df[str(i)] = np.random.randn(10000)\n",
    "true_coefs = np.reshape(np.random.randn(9), (9, 1))\n",
    "df['y'] = np.matmul(np.array(df), true_coefs).ravel()\n",
    "df['y'] = df['y'] + 0.5 * np.random.randn(10000)\n",
    "bias = 10\n",
    "df['y'] += bias\n",
    "y = df['y']\n",
    "X = df.drop('y', axis=1)\n",
    "X_train, X_test, y_train, y_test = train_test_split(X, y)"
   ]
  },
  {
   "cell_type": "code",
   "execution_count": 3,
   "metadata": {
    "scrolled": true
   },
   "outputs": [
    {
     "data": {
      "text/plain": [
       "0.28112114320119364"
      ]
     },
     "execution_count": 3,
     "metadata": {},
     "output_type": "execute_result"
    }
   ],
   "source": [
    "# Setting max_depth to 1 gets best results because features are uncorrelated\n",
    "booster = gb.LS_Boost(num_trees=1000, max_depth=1, learning_rate=0.1)\n",
    "booster.fit(X_train, y_train)\n",
    "preds = booster.predict(X_test)\n",
    "mean_squared_error(y_test, preds)"
   ]
  },
  {
   "cell_type": "code",
   "execution_count": 4,
   "metadata": {},
   "outputs": [],
   "source": [
    "y = df['y'] > 10\n",
    "X = df.drop('y', axis=1)\n",
    "X_train, X_test, y_train, y_test = train_test_split(X, y)"
   ]
  },
  {
   "cell_type": "code",
   "execution_count": 5,
   "metadata": {},
   "outputs": [
    {
     "data": {
      "text/plain": [
       "0.9404"
      ]
     },
     "execution_count": 5,
     "metadata": {},
     "output_type": "execute_result"
    }
   ],
   "source": [
    "booster = gb.L2TreeBoost(num_trees=1000, max_depth=1, learning_rate=0.5)\n",
    "booster.fit(X_train, y_train)\n",
    "proba = booster.predict_proba(X_test)\n",
    "preds = booster.predict(X_test)\n",
    "accuracy_score(y_test, preds)"
   ]
  }
 ],
 "metadata": {
  "kernelspec": {
   "display_name": "Python 3",
   "language": "python",
   "name": "python3"
  },
  "language_info": {
   "codemirror_mode": {
    "name": "ipython",
    "version": 3
   },
   "file_extension": ".py",
   "mimetype": "text/x-python",
   "name": "python",
   "nbconvert_exporter": "python",
   "pygments_lexer": "ipython3",
   "version": "3.7.1"
  }
 },
 "nbformat": 4,
 "nbformat_minor": 2
}
